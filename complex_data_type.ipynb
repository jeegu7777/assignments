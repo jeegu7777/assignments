{
  "nbformat": 4,
  "nbformat_minor": 0,
  "metadata": {
    "colab": {
      "provenance": []
    },
    "kernelspec": {
      "name": "python3",
      "display_name": "Python 3"
    },
    "language_info": {
      "name": "python"
    }
  },
  "cells": [
    {
      "cell_type": "markdown",
      "source": [
        "#why the complex data type ?\n",
        "   complex numbers are especially used in electronics,optics,and quantum theory for describing waves and periodic phenomena.\n",
        "  # fourier trsansform uses complex numbers. \n",
        "     audio signal processing in machine learning,\n",
        "     speech recognition system."
      ],
      "metadata": {
        "id": "cYLmkHOc0cd0"
      }
    },
    {
      "cell_type": "markdown",
      "source": [
        "# a complex number has REAL and IMAGINARY part components\n",
        "\n",
        "   a+bj = a is real part, bj is imaginary part,\n",
        "   ex. 3+2j,10-2.0j,11e6+4j\n",
        "   "
      ],
      "metadata": {
        "id": "Qf7pCQKo1OnC"
      }
    },
    {
      "cell_type": "code",
      "source": [
        "num = 2+3j\n",
        "num"
      ],
      "metadata": {
        "colab": {
          "base_uri": "https://localhost:8080/"
        },
        "id": "nqDOFvlb02MT",
        "outputId": "701571b3-21d0-425e-fe0e-6f7cc526f5b8"
      },
      "execution_count": null,
      "outputs": [
        {
          "output_type": "execute_result",
          "data": {
            "text/plain": [
              "(2+3j)"
            ]
          },
          "metadata": {},
          "execution_count": 2
        }
      ]
    },
    {
      "cell_type": "code",
      "source": [
        "print(type(num))"
      ],
      "metadata": {
        "colab": {
          "base_uri": "https://localhost:8080/"
        },
        "id": "7ptsK-0R3ZuU",
        "outputId": "59d30af3-4f62-4feb-a529-0a8fa7ab38ea"
      },
      "execution_count": null,
      "outputs": [
        {
          "output_type": "stream",
          "name": "stdout",
          "text": [
            "<class 'complex'>\n"
          ]
        }
      ]
    },
    {
      "cell_type": "code",
      "source": [
        "# real part are optional\n",
        "num1 = 5j\n",
        "num1"
      ],
      "metadata": {
        "colab": {
          "base_uri": "https://localhost:8080/"
        },
        "id": "qkLaSWiX3dO4",
        "outputId": "72535bf3-32e2-402e-bdf0-237e597a99e6"
      },
      "execution_count": null,
      "outputs": [
        {
          "output_type": "execute_result",
          "data": {
            "text/plain": [
              "5j"
            ]
          },
          "metadata": {},
          "execution_count": 5
        }
      ]
    },
    {
      "cell_type": "code",
      "source": [
        "print(type(num1))"
      ],
      "metadata": {
        "colab": {
          "base_uri": "https://localhost:8080/"
        },
        "id": "Z9c43GZg4J6U",
        "outputId": "79f094ef-36f5-4005-8480-b5b52bb2372a"
      },
      "execution_count": null,
      "outputs": [
        {
          "output_type": "stream",
          "name": "stdout",
          "text": [
            "<class 'complex'>\n"
          ]
        }
      ]
    },
    {
      "cell_type": "code",
      "source": [
        "# the value of a and b will also be negative\n",
        "num2 = -2-3j\n",
        "print(type(num2))"
      ],
      "metadata": {
        "colab": {
          "base_uri": "https://localhost:8080/"
        },
        "id": "6N2-xb7C4Mv5",
        "outputId": "79a3b837-9d07-4e94-99fc-571d7e356e29"
      },
      "execution_count": null,
      "outputs": [
        {
          "output_type": "stream",
          "name": "stdout",
          "text": [
            "<class 'complex'>\n"
          ]
        }
      ]
    },
    {
      "cell_type": "code",
      "source": [
        "# also be float value in complex\n",
        "num = 2.0 + 3.2j\n",
        "print(num)\n",
        "print(type(num))"
      ],
      "metadata": {
        "colab": {
          "base_uri": "https://localhost:8080/"
        },
        "id": "8oQaOh1K5B8-",
        "outputId": "417a3a2f-3336-4d77-a165-46f755d69af4"
      },
      "execution_count": null,
      "outputs": [
        {
          "output_type": "stream",
          "name": "stdout",
          "text": [
            "(2+3.2j)\n",
            "<class 'complex'>\n"
          ]
        }
      ]
    },
    {
      "cell_type": "markdown",
      "source": [
        "accessing real part :- var_name.real\n",
        "\n",
        "accessing imaginary part :- var_name.imag"
      ],
      "metadata": {
        "id": "WMeJYlDy6B2n"
      }
    },
    {
      "cell_type": "code",
      "source": [
        "num.real"
      ],
      "metadata": {
        "colab": {
          "base_uri": "https://localhost:8080/"
        },
        "id": "nxN1zhZF5u3K",
        "outputId": "cad408ad-9b94-4c2d-b27b-b769a1c50aa8"
      },
      "execution_count": null,
      "outputs": [
        {
          "output_type": "execute_result",
          "data": {
            "text/plain": [
              "2.0"
            ]
          },
          "metadata": {},
          "execution_count": 15
        }
      ]
    },
    {
      "cell_type": "code",
      "source": [
        "num.imag"
      ],
      "metadata": {
        "colab": {
          "base_uri": "https://localhost:8080/"
        },
        "id": "6QFn10xZ6y7S",
        "outputId": "69fbc6c1-93ce-45d5-ae18-9777d12bc987"
      },
      "execution_count": null,
      "outputs": [
        {
          "output_type": "execute_result",
          "data": {
            "text/plain": [
              "3.2"
            ]
          },
          "metadata": {},
          "execution_count": 17
        }
      ]
    },
    {
      "cell_type": "markdown",
      "source": [
        "#complex function\n"
      ],
      "metadata": {
        "id": "4bWNnMfG7Tgu"
      }
    },
    {
      "cell_type": "code",
      "source": [
        "# complex function is built in function\n",
        "# used to convert number or string to complex number.\n",
        "\n"
      ],
      "metadata": {
        "id": "_4iPxE6E74yE"
      },
      "execution_count": null,
      "outputs": []
    },
    {
      "cell_type": "code",
      "source": [
        "# syntax :-\n",
        "   #complex(real,imaginary) "
      ],
      "metadata": {
        "id": "AvhXfokz8dd_"
      },
      "execution_count": null,
      "outputs": []
    },
    {
      "cell_type": "code",
      "source": [
        " #both are optional parameters.default value are 0\n",
        " # parameters can be of type int,str,float."
      ],
      "metadata": {
        "id": "cuLbQZV38ox8"
      },
      "execution_count": null,
      "outputs": []
    },
    {
      "cell_type": "code",
      "source": [
        "num = complex(1,2)\n",
        "print(num)\n",
        "print(type(num))"
      ],
      "metadata": {
        "colab": {
          "base_uri": "https://localhost:8080/"
        },
        "id": "VjNhAyax9JSt",
        "outputId": "a3dd01f2-38ae-4645-ec61-4563bee87b07"
      },
      "execution_count": null,
      "outputs": [
        {
          "output_type": "stream",
          "name": "stdout",
          "text": [
            "(1+2j)\n",
            "<class 'complex'>\n"
          ]
        }
      ]
    },
    {
      "cell_type": "code",
      "source": [
        "num1 = complex(1)\n",
        "print(num1)\n",
        "print(type(num1))"
      ],
      "metadata": {
        "colab": {
          "base_uri": "https://localhost:8080/"
        },
        "id": "f1EoEMTX938m",
        "outputId": "324b6f60-5348-44e0-facd-8f6e2f9e9e82"
      },
      "execution_count": null,
      "outputs": [
        {
          "output_type": "stream",
          "name": "stdout",
          "text": [
            "(1+0j)\n",
            "<class 'complex'>\n"
          ]
        }
      ]
    },
    {
      "cell_type": "code",
      "source": [
        "# real part are 0 \n",
        "complex()"
      ],
      "metadata": {
        "colab": {
          "base_uri": "https://localhost:8080/"
        },
        "id": "WeJN9gwV-DTk",
        "outputId": "54f35596-0526-4980-f642-cda2b919a01f"
      },
      "execution_count": null,
      "outputs": [
        {
          "output_type": "execute_result",
          "data": {
            "text/plain": [
              "0j"
            ]
          },
          "metadata": {},
          "execution_count": 25
        }
      ]
    },
    {
      "cell_type": "code",
      "source": [
        "# only apply real part and automatic imaginary part show\n",
        "complex(1.2)"
      ],
      "metadata": {
        "colab": {
          "base_uri": "https://localhost:8080/"
        },
        "id": "r9fok64O-ZnW",
        "outputId": "7d9d63d9-604e-437d-c45f-5f19133e83ae"
      },
      "execution_count": null,
      "outputs": [
        {
          "output_type": "execute_result",
          "data": {
            "text/plain": [
              "(1.2+0j)"
            ]
          },
          "metadata": {},
          "execution_count": 27
        }
      ]
    },
    {
      "cell_type": "code",
      "source": [
        "# can't give second argument if first is string.\n",
        "complex(\"1\")"
      ],
      "metadata": {
        "colab": {
          "base_uri": "https://localhost:8080/"
        },
        "id": "S1HzclNA-7BN",
        "outputId": "af1005c3-28ce-4811-f109-3467b394a927"
      },
      "execution_count": null,
      "outputs": [
        {
          "output_type": "execute_result",
          "data": {
            "text/plain": [
              "(1+0j)"
            ]
          },
          "metadata": {},
          "execution_count": 28
        }
      ]
    },
    {
      "cell_type": "code",
      "source": [
        "#apply only numeric number in string \n",
        "complex(\"23.34\")"
      ],
      "metadata": {
        "colab": {
          "base_uri": "https://localhost:8080/"
        },
        "id": "BLT3FTdh_O3O",
        "outputId": "9150b997-f864-4f86-d40f-10af91f13f05"
      },
      "execution_count": null,
      "outputs": [
        {
          "output_type": "execute_result",
          "data": {
            "text/plain": [
              "(23.34+0j)"
            ]
          },
          "metadata": {},
          "execution_count": 29
        }
      ]
    }
  ]
}