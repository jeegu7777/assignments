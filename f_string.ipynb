{
  "nbformat": 4,
  "nbformat_minor": 0,
  "metadata": {
    "colab": {
      "provenance": []
    },
    "kernelspec": {
      "name": "python3",
      "display_name": "Python 3"
    },
    "language_info": {
      "name": "python"
    }
  },
  "cells": [
    {
      "cell_type": "code",
      "execution_count": 1,
      "metadata": {
        "colab": {
          "base_uri": "https://localhost:8080/"
        },
        "id": "ELNN0Z-TsO59",
        "outputId": "ccdb9dc1-f2d1-4815-b35b-df99aa0be94a"
      },
      "outputs": [
        {
          "output_type": "stream",
          "name": "stdout",
          "text": [
            "the value of x is 4 and the value of y is 8\n"
          ]
        }
      ],
      "source": [
        "#To create an f-string, prefix the string with the letter “ f ”. The string itself can be formatted in much the same way that you would with str.format(). F-strings provide a concise and convenient way to embed python expressions inside string literals for formatting. \n",
        "\n",
        "x=4\n",
        "y=8\n",
        "print(f\"the value of x is {x} and the value of y is {y}\")"
      ]
    },
    {
      "cell_type": "code",
      "source": [
        "a = 2\n",
        "b = 4\n",
        "print(f\"the value of x is {a} and the value of b is {b}\")"
      ],
      "metadata": {
        "colab": {
          "base_uri": "https://localhost:8080/"
        },
        "id": "9R7Sa37tsqAx",
        "outputId": "f83c324a-aa25-46c3-8928-f40f32792d64"
      },
      "execution_count": 2,
      "outputs": [
        {
          "output_type": "stream",
          "name": "stdout",
          "text": [
            "the value of x is 2 and the value of b is 4\n"
          ]
        }
      ]
    },
    {
      "cell_type": "code",
      "source": [
        "a=100\n",
        "b=200\n",
        "c=300\n",
        "print(f\" the value of a is {a} and the value of b is {b} and the value of c is {c}  \")"
      ],
      "metadata": {
        "colab": {
          "base_uri": "https://localhost:8080/"
        },
        "id": "8Lxj0wYys4lH",
        "outputId": "b95e326a-4888-460f-f5c8-9d80b6eec677"
      },
      "execution_count": 3,
      "outputs": [
        {
          "output_type": "stream",
          "name": "stdout",
          "text": [
            " the value of a is 100 and the value of b is 200 and the value of c is 300  \n"
          ]
        }
      ]
    },
    {
      "cell_type": "code",
      "source": [
        "# Prints today's date with help\n",
        "# of datetime library\n",
        "import datetime\n",
        " \n",
        "today = datetime.datetime.today()\n",
        "print(f\"{today:%B %d, %Y}\")\n"
      ],
      "metadata": {
        "colab": {
          "base_uri": "https://localhost:8080/"
        },
        "id": "5gur3IOUuV2M",
        "outputId": "4a2c6706-2db8-42c5-8d55-bb9207afc2ec"
      },
      "execution_count": 4,
      "outputs": [
        {
          "output_type": "stream",
          "name": "stdout",
          "text": [
            "January 09, 2023\n"
          ]
        }
      ]
    },
    {
      "cell_type": "code",
      "source": [
        "# f-string with name\n",
        "\n",
        "first_name=\"jeegu\"\n",
        "last_name=\"ahir\"\n",
        "print(f\"{first_name} {last_name}\")\n"
      ],
      "metadata": {
        "colab": {
          "base_uri": "https://localhost:8080/"
        },
        "id": "RPkpdIUuu2Ll",
        "outputId": "4469435c-0eb8-4596-e0bb-5c0be8cc9aa4"
      },
      "execution_count": 5,
      "outputs": [
        {
          "output_type": "stream",
          "name": "stdout",
          "text": [
            "jeegu ahir\n"
          ]
        }
      ]
    },
    {
      "cell_type": "code",
      "source": [
        "# math using f-string\n",
        "\n",
        "import math  \n",
        "a=4\n",
        "b=\"tops\"\n",
        "s=print(f\"the value of a's is {a**3} and{b*3}and the value of pie is {math.pi}\")\n",
        "len(str(s))\n",
        "print(s)"
      ],
      "metadata": {
        "colab": {
          "base_uri": "https://localhost:8080/"
        },
        "id": "ez0M5b1tvQ1a",
        "outputId": "2c331724-b4c8-493e-d0c4-76e859b0da7f"
      },
      "execution_count": 6,
      "outputs": [
        {
          "output_type": "stream",
          "name": "stdout",
          "text": [
            "the value of a's is 64 andtopstopstopsand the value of pie is 3.141592653589793\n",
            "None\n"
          ]
        }
      ]
    },
    {
      "cell_type": "code",
      "source": [
        "import math\n",
        "a=6\n",
        "b=\"rj\"\n",
        "s=print(f\"the value of a is {a**3} and the value of b is {b*6} {math.pi}\")"
      ],
      "metadata": {
        "colab": {
          "base_uri": "https://localhost:8080/"
        },
        "id": "ezrDPe3TvoTF",
        "outputId": "090c6570-9720-4ab5-f850-fa23b1819778"
      },
      "execution_count": 7,
      "outputs": [
        {
          "output_type": "stream",
          "name": "stdout",
          "text": [
            "the value of a is 216 and the value of b is rjrjrjrjrjrj 3.141592653589793\n"
          ]
        }
      ]
    },
    {
      "cell_type": "code",
      "source": [
        "# formating using f-string in int variable\n",
        "\n",
        "a=159\n",
        "print(f\"{a:05}\")\n",
        "print(f\"jeegu katariya {a:08}jeegu katariya\")"
      ],
      "metadata": {
        "colab": {
          "base_uri": "https://localhost:8080/"
        },
        "id": "EklD99-DvqP_",
        "outputId": "e5f5ef3b-9c19-430c-dcb2-b060ee8cbc44"
      },
      "execution_count": 8,
      "outputs": [
        {
          "output_type": "stream",
          "name": "stdout",
          "text": [
            "00159\n",
            "jeegu katariya 00000159jeegu katariya\n"
          ]
        }
      ]
    },
    {
      "cell_type": "code",
      "source": [
        "x=150\n",
        "print(f\"{x:02}\")\n",
        "print(f\"riortheedkf {x:03} duyfeuiygfeiu\")"
      ],
      "metadata": {
        "colab": {
          "base_uri": "https://localhost:8080/"
        },
        "id": "tE9rdBwcwC2E",
        "outputId": "859b1ec3-35f2-4ab1-c205-8da8b00e7e8b"
      },
      "execution_count": 9,
      "outputs": [
        {
          "output_type": "stream",
          "name": "stdout",
          "text": [
            "150\n",
            "riortheedkf 150 duyfeuiygfeiu\n"
          ]
        }
      ]
    },
    {
      "cell_type": "code",
      "source": [
        "# formating using f-string in float variable\n",
        "\n",
        "x=1.454545\n",
        "print(f\"the value is {x:.5f}\")"
      ],
      "metadata": {
        "colab": {
          "base_uri": "https://localhost:8080/"
        },
        "id": "nbEd5CZpwEq9",
        "outputId": "c71daadf-6722-44b2-f668-f99281fccd43"
      },
      "execution_count": 10,
      "outputs": [
        {
          "output_type": "stream",
          "name": "stdout",
          "text": [
            "the value is 1.45454\n"
          ]
        }
      ]
    },
    {
      "cell_type": "code",
      "source": [
        "a=123.4514\n",
        "print(f\"the value is a {a:.4f}\")"
      ],
      "metadata": {
        "colab": {
          "base_uri": "https://localhost:8080/"
        },
        "id": "9AS9_uUowdXP",
        "outputId": "5b36fb05-e061-45e9-80a8-baae2761531a"
      },
      "execution_count": 11,
      "outputs": [
        {
          "output_type": "stream",
          "name": "stdout",
          "text": [
            "the value is a 123.4514\n"
          ]
        }
      ]
    },
    {
      "cell_type": "code",
      "source": [
        "# formating using f-string in complex variable\n",
        "\n",
        "a = 2+2j\n",
        "print(f\"the value is a {a}\")"
      ],
      "metadata": {
        "colab": {
          "base_uri": "https://localhost:8080/"
        },
        "id": "gBf7X2EVwwgV",
        "outputId": "83395c62-5f01-40e1-ba00-230d1b64a2a1"
      },
      "execution_count": 12,
      "outputs": [
        {
          "output_type": "stream",
          "name": "stdout",
          "text": [
            "the value is a (2+2j)\n"
          ]
        }
      ]
    },
    {
      "cell_type": "code",
      "source": [
        "b = 23+34j\n",
        "print(f\"the value is{b}\")"
      ],
      "metadata": {
        "colab": {
          "base_uri": "https://localhost:8080/"
        },
        "id": "IXSwNygexCLW",
        "outputId": "2fa4288a-2547-4e5f-8e97-1f437a15bd86"
      },
      "execution_count": 13,
      "outputs": [
        {
          "output_type": "stream",
          "name": "stdout",
          "text": [
            "the value is(23+34j)\n"
          ]
        }
      ]
    }
  ]
}