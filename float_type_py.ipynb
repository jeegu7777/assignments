{
  "nbformat": 4,
  "nbformat_minor": 0,
  "metadata": {
    "colab": {
      "provenance": []
    },
    "kernelspec": {
      "name": "python3",
      "display_name": "Python 3"
    },
    "language_info": {
      "name": "python"
    }
  },
  "cells": [
    {
      "cell_type": "code",
      "execution_count": 3,
      "metadata": {
        "colab": {
          "base_uri": "https://localhost:8080/"
        },
        "id": "OXrocsymJo8N",
        "outputId": "f7318c3e-cf85-4968-e889-fa13149359fe"
      },
      "outputs": [
        {
          "output_type": "stream",
          "name": "stdout",
          "text": [
            "10.1\n",
            "<class 'float'>\n"
          ]
        }
      ],
      "source": [
        "# float() Syntax\n",
        "#The syntax for float() is:\n",
        "\n",
        "x = 10.10\n",
        "print(x)\n",
        "print(type(x))\n",
        "\n"
      ]
    },
    {
      "cell_type": "code",
      "source": [
        "# The float() method returns a floating point number from a number or a string.\n",
        "\n",
        "int_number = 25\n",
        "\n",
        "# convert int to float\n",
        "float_number = float(int_number)\n",
        "print(float_number)\n",
        "\n",
        "\n"
      ],
      "metadata": {
        "colab": {
          "base_uri": "https://localhost:8080/"
        },
        "id": "llQvPP-YOmKY",
        "outputId": "4c38d6e8-ac8d-4a5e-ca3d-694267170778"
      },
      "execution_count": 4,
      "outputs": [
        {
          "output_type": "stream",
          "name": "stdout",
          "text": [
            "25.0\n"
          ]
        }
      ]
    },
    {
      "cell_type": "markdown",
      "source": [
        "# float working a python"
      ],
      "metadata": {
        "id": "ghh_RP0DPOdE"
      }
    },
    {
      "cell_type": "code",
      "source": [
        "# for integers\n",
        "print(float(10))"
      ],
      "metadata": {
        "colab": {
          "base_uri": "https://localhost:8080/"
        },
        "id": "OEFgMpZ2PKuJ",
        "outputId": "c9219b37-e8f9-4dfb-926e-03908bad2807"
      },
      "execution_count": 5,
      "outputs": [
        {
          "output_type": "stream",
          "name": "stdout",
          "text": [
            "10.0\n"
          ]
        }
      ]
    },
    {
      "cell_type": "code",
      "source": [
        "# for floats\n",
        "print(float(11.22))\n",
        "\n"
      ],
      "metadata": {
        "colab": {
          "base_uri": "https://localhost:8080/"
        },
        "id": "AG5HhQ7ePY_2",
        "outputId": "823c9179-7694-4870-e2a2-d902958505fb"
      },
      "execution_count": 6,
      "outputs": [
        {
          "output_type": "stream",
          "name": "stdout",
          "text": [
            "11.22\n"
          ]
        }
      ]
    },
    {
      "cell_type": "code",
      "source": [
        "# for string floats\n",
        "print(float(\"-13.33\"))\n",
        "print(type(float(\"-13.33\")))"
      ],
      "metadata": {
        "colab": {
          "base_uri": "https://localhost:8080/"
        },
        "id": "eFQUp-NKPd21",
        "outputId": "917f5e7a-0e08-4dd0-e36b-ae243ff59fd1"
      },
      "execution_count": 14,
      "outputs": [
        {
          "output_type": "stream",
          "name": "stdout",
          "text": [
            "-13.33\n",
            "<class 'float'>\n"
          ]
        }
      ]
    },
    {
      "cell_type": "code",
      "source": [
        "# for string floats with whitespaces\n",
        "print(float(\"     -24.45\\n\"))\n",
        "\n"
      ],
      "metadata": {
        "colab": {
          "base_uri": "https://localhost:8080/"
        },
        "id": "GKN4yQ6bPihe",
        "outputId": "54a838e7-32b8-45e6-e67b-0c498538137a"
      },
      "execution_count": 8,
      "outputs": [
        {
          "output_type": "stream",
          "name": "stdout",
          "text": [
            "-24.45\n"
          ]
        }
      ]
    },
    {
      "cell_type": "code",
      "source": [
        "# string float error\n",
        "\n",
        "#print(float(\"abc\"))\n",
        "# could not convert string to float : \"abc\"\n",
        "\n"
      ],
      "metadata": {
        "id": "D3pRzlsuPodK"
      },
      "execution_count": 11,
      "outputs": []
    },
    {
      "cell_type": "markdown",
      "source": [
        "# float() for infinity and Nan(Not a number)?"
      ],
      "metadata": {
        "id": "p01jxfhTQrff"
      }
    },
    {
      "cell_type": "code",
      "source": [
        "# for NaN\n",
        "\n",
        "print(float(\"nan\"))\n",
        "print(float(\"NaN\"))\n",
        "print(type(float(\"NaN\")))"
      ],
      "metadata": {
        "colab": {
          "base_uri": "https://localhost:8080/"
        },
        "id": "EU1G3tqxQuAP",
        "outputId": "b1737545-0971-4194-9daf-1ccfdd746a66"
      },
      "execution_count": 15,
      "outputs": [
        {
          "output_type": "stream",
          "name": "stdout",
          "text": [
            "nan\n",
            "nan\n",
            "<class 'float'>\n"
          ]
        }
      ]
    },
    {
      "cell_type": "code",
      "source": [
        "# for inf/infinity\n",
        "\n",
        "print(float(\"inf\"))\n",
        "print(float(\"InF\"))\n",
        "print(float(\"InFiNiTy\"))\n",
        "print(float(\"infinity\"))\n"
      ],
      "metadata": {
        "colab": {
          "base_uri": "https://localhost:8080/"
        },
        "id": "GKYYc-SrQ3VL",
        "outputId": "3de4035c-8858-4f69-fcd9-e46a54e872b6"
      },
      "execution_count": 13,
      "outputs": [
        {
          "output_type": "stream",
          "name": "stdout",
          "text": [
            "inf\n",
            "inf\n",
            "inf\n",
            "inf\n"
          ]
        }
      ]
    }
  ]
}