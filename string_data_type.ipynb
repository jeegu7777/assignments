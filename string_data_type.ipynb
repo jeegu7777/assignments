{
  "nbformat": 4,
  "nbformat_minor": 0,
  "metadata": {
    "colab": {
      "provenance": []
    },
    "kernelspec": {
      "name": "python3",
      "display_name": "Python 3"
    },
    "language_info": {
      "name": "python"
    }
  },
  "cells": [
    {
      "cell_type": "code",
      "execution_count": null,
      "metadata": {
        "id": "XxqREY0YKXsk",
        "colab": {
          "base_uri": "https://localhost:8080/"
        },
        "outputId": "06138d79-f2b3-453a-e65f-4879b395d899"
      },
      "outputs": [
        {
          "output_type": "stream",
          "name": "stdout",
          "text": [
            "this girl name is krisha\n",
            "<class 'str'>\n"
          ]
        }
      ],
      "source": [
        "# string data type :\n",
        "\n",
        "#Strings in python are surrounded by either single quotation marks, or double quotation marks.\n",
        "# 'hello\" is the same as \"hello\"\n",
        "# anything in qoutation''becomes a string\n",
        "\n",
        "a = \"this girl name is krisha\"\n",
        "print(a)\n",
        "print(type(a))"
      ]
    },
    {
      "cell_type": "code",
      "source": [
        "b = \"DO YOU EAT ICE CREAM ?\"\n",
        "print(b)\n",
        "print(type(b))"
      ],
      "metadata": {
        "colab": {
          "base_uri": "https://localhost:8080/"
        },
        "id": "-AMSXPoPND9X",
        "outputId": "41315663-1b56-495c-b110-3765b55f57c0"
      },
      "execution_count": null,
      "outputs": [
        {
          "output_type": "stream",
          "name": "stdout",
          "text": [
            "DO YOU EAT ICE CREAM ?\n",
            "<class 'str'>\n"
          ]
        }
      ]
    },
    {
      "cell_type": "code",
      "source": [
        "c = '1,2,3,4,5,6'\n",
        "print(c)\n",
        "print(type(c))"
      ],
      "metadata": {
        "colab": {
          "base_uri": "https://localhost:8080/"
        },
        "id": "qwEC3IIrOPvP",
        "outputId": "914a0305-3785-4b93-b3fc-23dc42905626"
      },
      "execution_count": null,
      "outputs": [
        {
          "output_type": "stream",
          "name": "stdout",
          "text": [
            "1,2,3,4,5,6\n",
            "<class 'str'>\n"
          ]
        }
      ]
    },
    {
      "cell_type": "code",
      "source": [
        "d = '12+2j'\n",
        "print(d)\n",
        "print(type(d))"
      ],
      "metadata": {
        "colab": {
          "base_uri": "https://localhost:8080/"
        },
        "id": "JkyoVgB9PrZm",
        "outputId": "59760c21-c0c5-4c8c-daa4-18e4ff1b18b0"
      },
      "execution_count": null,
      "outputs": [
        {
          "output_type": "stream",
          "name": "stdout",
          "text": [
            "12+2j\n",
            "<class 'str'>\n"
          ]
        }
      ]
    }
  ]
}