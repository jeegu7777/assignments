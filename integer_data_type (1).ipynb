{
  "nbformat": 4,
  "nbformat_minor": 0,
  "metadata": {
    "colab": {
      "provenance": []
    },
    "kernelspec": {
      "name": "python3",
      "display_name": "Python 3"
    },
    "language_info": {
      "name": "python"
    }
  },
  "cells": [
    {
      "cell_type": "code",
      "execution_count": null,
      "metadata": {
        "id": "XxqREY0YKXsk",
        "colab": {
          "base_uri": "https://localhost:8080/"
        },
        "outputId": "d0b7d714-1dee-4317-c9a6-45a32ae06a64"
      },
      "outputs": [
        {
          "output_type": "stream",
          "name": "stdout",
          "text": [
            "34\n",
            "<class 'int'>\n"
          ]
        }
      ],
      "source": [
        "# integer data type :\n",
        "#Python interprets a sequence of decimal digits without any prefix to be a decimal number:\n",
        "\n",
        "\n",
        "\n",
        "a = 34\n",
        "print(a)\n",
        "print(type(a))"
      ]
    },
    {
      "cell_type": "code",
      "source": [
        "b = 500\n",
        "print(b)\n",
        "print(type(b))"
      ],
      "metadata": {
        "colab": {
          "base_uri": "https://localhost:8080/"
        },
        "id": "_Gw_VOfhUpLv",
        "outputId": "e6e6c0cb-7395-46da-88eb-0b75062fb70c"
      },
      "execution_count": null,
      "outputs": [
        {
          "output_type": "stream",
          "name": "stdout",
          "text": [
            "500\n",
            "<class 'int'>\n"
          ]
        }
      ]
    },
    {
      "cell_type": "code",
      "source": [
        "c = 45454545400000234466\n",
        "print(c)\n",
        "print(type(c))"
      ],
      "metadata": {
        "colab": {
          "base_uri": "https://localhost:8080/"
        },
        "id": "wtqcqIlpVV01",
        "outputId": "2d34b8a7-b252-40dd-d1a2-2a7005fe4037"
      },
      "execution_count": null,
      "outputs": [
        {
          "output_type": "stream",
          "name": "stdout",
          "text": [
            "45454545400000234466\n",
            "<class 'int'>\n"
          ]
        }
      ]
    }
  ]
}