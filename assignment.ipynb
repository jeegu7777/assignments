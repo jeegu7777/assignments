{
  "nbformat": 4,
  "nbformat_minor": 0,
  "metadata": {
    "colab": {
      "provenance": []
    },
    "kernelspec": {
      "name": "python3",
      "display_name": "Python 3"
    },
    "language_info": {
      "name": "python"
    }
  },
  "cells": [
    {
      "cell_type": "markdown",
      "source": [
        "# 1. Write a python program to sum of the first n positive integers"
      ],
      "metadata": {
        "id": "zwXYb3SXTDkM"
      }
    },
    {
      "cell_type": "code",
      "execution_count": null,
      "metadata": {
        "colab": {
          "base_uri": "https://localhost:8080/"
        },
        "id": "IVk3wnu4SZc9",
        "outputId": "abfcc13c-1577-4a49-c8a6-a50b4919892b"
      },
      "outputs": [
        {
          "name": "stdout",
          "output_type": "stream",
          "text": [
            "input a number :24\n"
          ]
        },
        {
          "output_type": "execute_result",
          "data": {
            "text/plain": [
              "48"
            ]
          },
          "metadata": {},
          "execution_count": 2
        }
      ],
      "source": [
        "# method-1\n",
        "num = int(input(\"input a number :\"))\n",
        "sum_num = (num +num)\n",
        "sum_num"
      ]
    },
    {
      "cell_type": "code",
      "source": [
        "# method-2\n",
        "def sum(x, y):\n",
        "  return x+ y\n",
        "\n",
        "from functools import reduce\n",
        "\n",
        "reduce(sum, lst)"
      ],
      "metadata": {
        "colab": {
          "base_uri": "https://localhost:8080/"
        },
        "id": "MeAwrzGZgOe0",
        "outputId": "6e83cb3e-dd65-40d8-97e4-68359b5ba7a1"
      },
      "execution_count": null,
      "outputs": [
        {
          "output_type": "execute_result",
          "data": {
            "text/plain": [
              "21"
            ]
          },
          "metadata": {},
          "execution_count": 11
        }
      ]
    },
    {
      "cell_type": "code",
      "source": [
        "# method-3\n",
        "\n",
        "#num = int(input(\"input a number :\"))\n",
        "#sum_num = (num*(num+1))/2\n",
        "#print(sum_num)"
      ],
      "metadata": {
        "id": "jcgafpn9gPbC"
      },
      "execution_count": null,
      "outputs": []
    },
    {
      "cell_type": "code",
      "source": [
        "num = int(input(\"enter the number :\"))\n",
        "sum_num = (num*(num+1))/2\n",
        "print(sum_num)"
      ],
      "metadata": {
        "colab": {
          "base_uri": "https://localhost:8080/"
        },
        "id": "OQWTag9FibP1",
        "outputId": "621400ba-8b3d-4127-db1e-9689dbf59e81"
      },
      "execution_count": null,
      "outputs": [
        {
          "output_type": "stream",
          "name": "stdout",
          "text": [
            "enter the number :10\n",
            "55.0\n"
          ]
        }
      ]
    },
    {
      "cell_type": "markdown",
      "source": [
        "## 2. Write a Python program to count occurrences of a substring in a string."
      ],
      "metadata": {
        "id": "lXBEONNxi__T"
      }
    },
    {
      "cell_type": "code",
      "source": [
        "# method -1\n",
        "\n",
        "str1 = \"the tops is the best institute in IT sector\"\n",
        "print(str1.count(\"tops\"))"
      ],
      "metadata": {
        "colab": {
          "base_uri": "https://localhost:8080/"
        },
        "id": "5qgrvi5DjBTM",
        "outputId": "db127290-f6c3-45b2-bcf3-9395133d39a3"
      },
      "execution_count": null,
      "outputs": [
        {
          "output_type": "stream",
          "name": "stdout",
          "text": [
            "1\n"
          ]
        }
      ]
    },
    {
      "cell_type": "code",
      "source": [
        "print(str1.count(\"b\"))"
      ],
      "metadata": {
        "colab": {
          "base_uri": "https://localhost:8080/"
        },
        "id": "jrKys0uMlyiN",
        "outputId": "bba7cf57-a5ae-46f8-81b4-48db2cf92bfe"
      },
      "execution_count": null,
      "outputs": [
        {
          "output_type": "stream",
          "name": "stdout",
          "text": [
            "1\n"
          ]
        }
      ]
    },
    {
      "cell_type": "code",
      "source": [
        "print(str1.count(\"t\"))"
      ],
      "metadata": {
        "colab": {
          "base_uri": "https://localhost:8080/"
        },
        "id": "ZQyCVeBgl8Tf",
        "outputId": "8457f298-e2c1-426e-ba06-ee869eb9a88a"
      },
      "execution_count": null,
      "outputs": [
        {
          "output_type": "stream",
          "name": "stdout",
          "text": [
            "8\n"
          ]
        }
      ]
    },
    {
      "cell_type": "code",
      "source": [
        "print(str1.count(\"i\"))"
      ],
      "metadata": {
        "colab": {
          "base_uri": "https://localhost:8080/"
        },
        "id": "nDM29VBKouIh",
        "outputId": "661d501b-026d-4035-b34f-411f7b16a5df"
      },
      "execution_count": null,
      "outputs": [
        {
          "output_type": "stream",
          "name": "stdout",
          "text": [
            "4\n"
          ]
        }
      ]
    },
    {
      "cell_type": "code",
      "source": [
        "# method-2\n",
        "my_string = input(\"enter the string :\")\n",
        "my_substring = input(\"enter the substring :\")\n",
        "\n",
        "my_count= my_string.count(my_substring)\n",
        "print(f\"substring occurs \",my_count)\n",
        "\n"
      ],
      "metadata": {
        "colab": {
          "base_uri": "https://localhost:8080/"
        },
        "id": "QQGhw7OIpBQ-",
        "outputId": "2d712e66-64bc-4181-c0e1-c718da916e55"
      },
      "execution_count": null,
      "outputs": [
        {
          "output_type": "stream",
          "name": "stdout",
          "text": [
            "enter the string :the tops is the best institute in it sector\n",
            "enter the substring :hello\n",
            "substring occurs  0\n"
          ]
        }
      ]
    },
    {
      "cell_type": "code",
      "source": [
        "y_string = input(\"enter the string :\")\n",
        "my_substring = input(\"enter the substring :\")\n",
        "\n",
        "my_count= my_string.count(my_substring)\n",
        "print(f\"substring occurs \",my_count)\n",
        "\n"
      ],
      "metadata": {
        "colab": {
          "base_uri": "https://localhost:8080/"
        },
        "id": "jBEZiFjtqtip",
        "outputId": "5d0dc5e3-b67f-4451-c067-f276102b5f6e"
      },
      "execution_count": null,
      "outputs": [
        {
          "output_type": "stream",
          "name": "stdout",
          "text": [
            "enter the string :the tops is the best institute in IT sector\n",
            "enter the substring :in\n",
            "substring occurs  2\n"
          ]
        }
      ]
    },
    {
      "cell_type": "markdown",
      "source": [
        "# 3. Write a Python program to count the occurrences of each word in a given sentence."
      ],
      "metadata": {
        "id": "RqnFAluXsOPp"
      }
    },
    {
      "cell_type": "code",
      "source": [
        "string=input(\"Enter string:\")\n",
        "word=input(\"Enter word:\")\n",
        "a=[]\n",
        "count=0\n",
        "a=string.split(\" \")\n",
        "for i in range(0,len(a)):\n",
        "      if(word==a[i]):\n",
        "            count=count+1\n",
        "print(\"Count of the word is:\")\n",
        "print(count)"
      ],
      "metadata": {
        "colab": {
          "base_uri": "https://localhost:8080/"
        },
        "id": "-t2Ih2Ehtigj",
        "outputId": "b08b8066-db77-454d-cfa9-ac167910bc51"
      },
      "execution_count": null,
      "outputs": [
        {
          "output_type": "stream",
          "name": "stdout",
          "text": [
            "Enter string:the best class in area\n",
            "Enter word:a\n",
            "Count of the word is:\n",
            "0\n"
          ]
        }
      ]
    },
    {
      "cell_type": "code",
      "source": [
        "def word_count(str):\n",
        "    counts = dict()\n",
        "    words = str.split()\n",
        "\n",
        "    for word in words:\n",
        "        if word in counts:\n",
        "            counts[word] += 1\n",
        "        else:\n",
        "            counts[word] = 1\n",
        "\n",
        "    return counts\n",
        "\n",
        "print( word_count('the quick brown fox jumps over the lazy dog.'))\n"
      ],
      "metadata": {
        "colab": {
          "base_uri": "https://localhost:8080/"
        },
        "id": "epna3s5irql2",
        "outputId": "4385ba7b-2801-4b4b-ab55-55db55bc4848"
      },
      "execution_count": null,
      "outputs": [
        {
          "output_type": "stream",
          "name": "stdout",
          "text": [
            "{'the': 2, 'quick': 1, 'brown': 1, 'fox': 1, 'jumps': 1, 'over': 1, 'lazy': 1, 'dog.': 1}\n"
          ]
        }
      ]
    },
    {
      "cell_type": "code",
      "source": [
        "str = \"To change the overall look your document. To change the look available in the gallery\"\n",
        "c = dict()\n",
        "txt = str.split(\" \")\n",
        "for t in txt:\n",
        "\tif t in c:\n",
        "\t\tc[t] += 1\n",
        "\telse:\n",
        "\t\tc[t] = 1\n",
        "print(c)"
      ],
      "metadata": {
        "colab": {
          "base_uri": "https://localhost:8080/"
        },
        "id": "k_aX-47xsNWs",
        "outputId": "0dcc29cd-3924-4499-a84e-2d712ddc1b3d"
      },
      "execution_count": null,
      "outputs": [
        {
          "output_type": "stream",
          "name": "stdout",
          "text": [
            "{'To': 2, 'change': 2, 'the': 3, 'overall': 1, 'look': 2, 'your': 1, 'document.': 1, 'available': 1, 'in': 1, 'gallery': 1}\n"
          ]
        }
      ]
    },
    {
      "cell_type": "markdown",
      "source": [
        "# 4. Write a Python program to get a single string from two given strings, separated by a space and swap the first two characters of each string. \n",
        " \n"
      ],
      "metadata": {
        "id": "Syr_hIdat0l-"
      }
    },
    {
      "cell_type": "code",
      "source": [
        "def chars_mix_up(a, b):\n",
        "  new_a = b[:2] + a[2:]\n",
        "  new_b = a[:2] + b[2:]\n",
        "\n",
        "  return new_a + ' ' + new_b\n",
        "print(chars_mix_up('abc', 'xyz'))"
      ],
      "metadata": {
        "colab": {
          "base_uri": "https://localhost:8080/"
        },
        "id": "POXN1SMSuILi",
        "outputId": "6e3b30b2-c1a4-43fb-867c-03702a529a2f"
      },
      "execution_count": null,
      "outputs": [
        {
          "output_type": "stream",
          "name": "stdout",
          "text": [
            "xyc abz\n"
          ]
        }
      ]
    },
    {
      "cell_type": "code",
      "source": [
        "a = input(\"enter name\")\n",
        "b = input(\"enter name\")\n",
        "print(a,b)"
      ],
      "metadata": {
        "colab": {
          "base_uri": "https://localhost:8080/"
        },
        "id": "YhlvslnIu_PA",
        "outputId": "cb054c9a-0d94-41b3-8784-c24a0fc4d9fb"
      },
      "execution_count": null,
      "outputs": [
        {
          "output_type": "stream",
          "name": "stdout",
          "text": [
            "enter namejeegu\n",
            "enter namekatariya\n",
            "jeegu katariya\n"
          ]
        }
      ]
    },
    {
      "cell_type": "markdown",
      "source": [
        "#5. Write a Python program to add 'ing' at the end of a given string (length should be at least 3).If the given string already ends with 'ing' then add 'ly' instead If the string length of the given string is less than 3, leave it unchanged \n",
        "\n",
        " \n"
      ],
      "metadata": {
        "id": "P2eNdlCEw6dX"
      }
    },
    {
      "cell_type": "code",
      "source": [
        "def add_string(str1):\n",
        "  length = len(str1)\n",
        "\n",
        "  if length > 2:\n",
        "    if str1[-3:] == 'ing':\n",
        "      str1 += 'ly'\n",
        "    else:\n",
        "      str1 += 'ing'\n",
        "\n",
        "  return str1\n",
        "print(add_string('ab'))\n",
        "print(add_string('abc'))\n",
        "print(add_string('string'))\n",
        "\n"
      ],
      "metadata": {
        "colab": {
          "base_uri": "https://localhost:8080/"
        },
        "id": "CJ90IVXOwC9O",
        "outputId": "9c0314f2-3b5f-4538-88a4-86289d588cb6"
      },
      "execution_count": null,
      "outputs": [
        {
          "output_type": "stream",
          "name": "stdout",
          "text": [
            "ab\n",
            "abcing\n",
            "stringly\n"
          ]
        }
      ]
    },
    {
      "cell_type": "markdown",
      "source": [
        "#6. Write a Python program to find the first appearance of the substring 'not' and 'poor' from a given string, if 'not' follows the 'poor', replace the whole 'not'...'poor' substring with 'good'.Return the resulting string\n",
        " \n",
        "\n"
      ],
      "metadata": {
        "id": "nyhCZwGwyr1f"
      }
    },
    {
      "cell_type": "code",
      "source": [
        "def not_poor(str1):\n",
        "  snot = str1.find('not')\n",
        "  spoor = str1.find('poor')\n",
        "  \n",
        "\n",
        "  if spoor > snot and snot>0 and spoor>0:\n",
        "    str1 = str1.replace(str1[snot:(spoor+4)], 'good')\n",
        "    return str1\n",
        "  else:\n",
        "    return str1\n",
        "print(not_poor('The lyrics is not that poor!'))\n",
        "print(not_poor('The lyrics is poor!'))\n",
        "\n"
      ],
      "metadata": {
        "colab": {
          "base_uri": "https://localhost:8080/"
        },
        "id": "XRM7BJbP1Z_m",
        "outputId": "5497f16d-053a-430a-dae1-f22c88457c05"
      },
      "execution_count": null,
      "outputs": [
        {
          "output_type": "stream",
          "name": "stdout",
          "text": [
            "The lyrics is good!\n",
            "The lyrics is poor!\n"
          ]
        }
      ]
    },
    {
      "cell_type": "code",
      "source": [
        "def not_poor(str1):  \n",
        "  snot = str1.find('not')  \n",
        "  sbad = str1.find('poor')  \n",
        "  \n",
        "  if sbad > snot:  \n",
        "    str1 = str1.replace(str1[snot:(sbad+4)], 'good')  \n",
        "  \n",
        "  return str1  \n",
        "print(not_poor('The lyrics is not that poor!'))  \n"
      ],
      "metadata": {
        "id": "hnNNnN972KxG",
        "outputId": "96f9d9d3-c267-4c32-f23b-5f84c0cc3399",
        "colab": {
          "base_uri": "https://localhost:8080/"
        }
      },
      "execution_count": null,
      "outputs": [
        {
          "output_type": "stream",
          "name": "stdout",
          "text": [
            "The lyrics is good!\n"
          ]
        }
      ]
    }
  ]
}